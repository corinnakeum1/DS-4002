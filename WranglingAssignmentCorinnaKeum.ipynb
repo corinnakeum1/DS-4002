{
  "nbformat": 4,
  "nbformat_minor": 0,
  "metadata": {
    "colab": {
      "provenance": [],
      "authorship_tag": "ABX9TyMUgzeHE3h8HqFYLBx51Dfb",
      "include_colab_link": true
    },
    "kernelspec": {
      "name": "python3",
      "display_name": "Python 3"
    },
    "language_info": {
      "name": "python"
    }
  },
  "cells": [
    {
      "cell_type": "markdown",
      "metadata": {
        "id": "view-in-github",
        "colab_type": "text"
      },
      "source": [
        "<a href=\"https://colab.research.google.com/github/corinnakeum1/DS-4002/blob/main/WranglingAssignmentCorinnaKeum.ipynb\" target=\"_parent\"><img src=\"https://colab.research.google.com/assets/colab-badge.svg\" alt=\"Open In Colab\"/></a>"
      ]
    },
    {
      "cell_type": "code",
      "execution_count": 1,
      "metadata": {
        "colab": {
          "base_uri": "https://localhost:8080/"
        },
        "id": "xyNlQmFRBDyi",
        "outputId": "1bcbb981-1f7e-4dbe-8c92-19cb9084568a"
      },
      "outputs": [
        {
          "output_type": "stream",
          "name": "stdout",
          "text": [
            "Cloning into 'wrangling'...\n",
            "remote: Enumerating objects: 92, done.\u001b[K\n",
            "remote: Counting objects: 100% (49/49), done.\u001b[K\n",
            "remote: Compressing objects: 100% (35/35), done.\u001b[K\n",
            "remote: Total 92 (delta 36), reused 17 (delta 14), pack-reused 43 (from 1)\u001b[K\n",
            "Receiving objects: 100% (92/92), 18.19 MiB | 5.90 MiB/s, done.\n",
            "Resolving deltas: 100% (41/41), done.\n"
          ]
        }
      ],
      "source": [
        "! git clone https://github.com/DS3001/wrangling"
      ]
    },
    {
      "cell_type": "code",
      "source": [
        "import numpy as np # Import the numpy package into your workspace\n",
        "import matplotlib.pyplot as plt # Import matplotlib into your workspace\n",
        "import pandas as pd  # Import the pandas package into your workspace"
      ],
      "metadata": {
        "id": "hXx-ZJ7WBJMk"
      },
      "execution_count": 2,
      "outputs": []
    },
    {
      "cell_type": "markdown",
      "source": [
        "**Read the abstract. What is this paper about?**\n",
        "This paper is about the importance of having clean data.\n",
        "\n",
        "**Read the introduction. What is the \"tidy data standard\" intended to accomplish?**\n",
        "\"tidy data standard\" is a way to organize data with a standard that makes it easier to clean and not have to start from scratch.\n",
        "\n",
        "**Read the intro to section 2. What does this sentence mean: \"Like families, tidy datasets are all alike but every messy dataset is messy in its own way.\"**\n",
        "This means that the datasets that are in the standardized format are all similar structure.  \n",
        "\n",
        "**What does this sentence mean: \"For a given dataset, it’s usually easy to figure out what are observations and what are variables, but it is surprisingly difficult to precisely define variables and observations in general.\"**\n",
        "\n",
        "This means that while its easy to point out the different variables, its hard to actually explain what the significance of the variables are and defining them.\n",
        "\n",
        "**Read Section 2.2. How does Wickham define values, variables, and observations?**\n",
        "\n",
        "value is a collection of either quantitative numbers or qualitative strings.\n",
        "observation contains all values measured on the same unit across attributes.\n",
        "Variable contains all values that measure the same underlying attribute across units and every value belongs to it.\n",
        "\n",
        "**How is \"Tidy Data\" defined in section 2.3?**\n",
        "tidy data means that each variable forms a column, each observation forms a row, and each type of obervation unit forms a table.\n",
        "\n",
        "**Read the intro to Section 3 and Section 3.1. What are the 5 most common problems with messy datasets? **\n",
        "\n",
        "1. column headers are values, not variable names\n",
        "2. multiple variables are stored in one column\n",
        "3. variables are stored in both rows and columns\n",
        "4. multiple types of obervational units are stored in the same table\n",
        "5. a single observational unit is stored in multiple tables.\n",
        "\n",
        "**Why are the data in Table 4 messy? What is \"melting\" a dataset?\n",
        "Why, specifically, is table 11 messy but table 12 tidy and \"molten\"?**\n",
        "\n",
        "table 4 is messy because it has 3 variables: income, religion, and frequency. melting the dataset means that the columns of the dataset will turn into rows. the other columns are converted into two variables: new variable called column that contains repeated column heading and a new variable.\n",
        "\n",
        "**Read Section 6. What is the \"chicken-and-egg\" problem with focusing on tidy data? What does Wickham hope happens in the future with further work on the subject of data wrangling?**\n",
        "\n",
        "chicken and egg problem refers to the idea that tidy data is only as useful as the toolds that works with it, so tidy tidy tools will be inextricable linked to tidy data. The problem is that this makes it easy to get stuck in a local maxima where independently changing data structures or data tools will not improve workflow. Wickhan belives that other formulations of tidy data are possible.\n"
      ],
      "metadata": {
        "id": "roDeF1qZBm6J"
      }
    },
    {
      "cell_type": "code",
      "source": [],
      "metadata": {
        "id": "mDWXLf_RBNPg"
      },
      "execution_count": null,
      "outputs": []
    },
    {
      "cell_type": "markdown",
      "source": [
        "**Q3. Many important datasets contain a race variable, typically limited to a handful of values often including Black, White, Asian, Latino, and Indigenous. This question looks at data gathering efforts on this variable by the U.S. Federal government.**\n",
        "\n",
        "**How did the most recent US Census gather data on race?**\n",
        "\n",
        "the census bureau collects race data according to U.S office of managemnt and budget guidelines, and these data are based on self-identification.\n",
        "\n",
        "**Why do we gather these data? What role do these kinds of data play in politics and society? Why does data quality matter?**\n",
        "\n",
        "Census sates that the reason for collecting information on race is for many federal programs. They say it is critical to make policy decisions, like civil rights and states can use this data to meet legislative redistricting principles. Race data can play a role in promoting equal employment opportunities and assess racial disparities in health and envrionmental risks. The data quality matters because it needs to accurately reflect out country's diversity.\n",
        "\n",
        "**Please provide a constructive criticism of how the Census was conducted: What was done well? What do you think was missing? How should future large scale surveys be adjusted to best reflect the diversity of the population? Could some of the Census' good practices be adopted more widely to gather richer and more useful data?**\n",
        "\n",
        "Because america is so diverse, many people might find the race or ethnic categories confusing. More specifivity would reflect better the diversity of the population. For instance the Some Other Race(SOR) was the 3rd largest race category in 2010, but this is not specific at all. So having more categories for people to choose, or more questions on how people identify would improve the surveys.\n",
        "\n",
        "**How did the Census gather data on sex and gender? Please provide a similar constructive criticism of their practices.**\n",
        "\n",
        "Census gathered data from various surveys:\n",
        "- SOGI questions on the household pulse survey, input from the interagency working group on sexual orientation and gender identity items in the household pulse survey: report and recommendations\n",
        "- American housing survey (AHS)\n",
        "- Annual business survey(ABS)\n",
        "SOGI statistics collects for other federal agencies:\n",
        "- national crime victimization survey\n",
        "- national survey of children's health\n",
        "- national health interview survey\n",
        "\n",
        "The data is collected from many different areas, how does the Census reflect the whole country when not everyone is participating. Also the SOGI topics require the people to identify themslves, and willingness to respond to the question.\n",
        "\n",
        "\n",
        "**When it comes to cleaning data, what concerns do you have about protected characteristics like sex, gender, sexual identity, or race? What challenges can you imagine arising when there are missing values? What good or bad practices might people adopt, and why?**\n",
        "\n",
        "A minority group might be not accounted for because the values are missing or the survey was not specific to how they identify, so when cleaning the data, this group might not get a counted for. So like in 2010 for SOR might happen, where there is a large percent of the population that has unclear and a mix of unknown data. Good practices would be to go back and make a more specific survey and data for the topic of sex,gender, sexual identity, or race, to insure that the all the groups of the diversity are present. Bad practices would be to just delete the missing values and not a count them into the population, and try to get the cleanest data.  \n",
        "\n",
        "\n",
        "\n",
        "**Suppose someone invented an algorithm to impute values for protected characteristics like race, gender, sex, or sexuality. What kinds of concerns would you have?**\n",
        "\n",
        "I would be concerned about if the algorithm would really be able to impute the correct values for the characteristics of race, gender, sex, or sexuality. I wonder if the algorithm was trained on data from the census, which did not seem to not be a true reflection of the diversity within the country.\n",
        "\n"
      ],
      "metadata": {
        "id": "4E35S_CFJ2_n"
      }
    }
  ]
}
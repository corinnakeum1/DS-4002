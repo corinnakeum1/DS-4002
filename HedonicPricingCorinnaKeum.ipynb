{
  "nbformat": 4,
  "nbformat_minor": 0,
  "metadata": {
    "colab": {
      "provenance": [],
      "authorship_tag": "ABX9TyOstS6qCdiwsV4D1MfULjPB",
      "include_colab_link": true
    },
    "kernelspec": {
      "name": "python3",
      "display_name": "Python 3"
    },
    "language_info": {
      "name": "python"
    }
  },
  "cells": [
    {
      "cell_type": "markdown",
      "metadata": {
        "id": "view-in-github",
        "colab_type": "text"
      },
      "source": [
        "<a href=\"https://colab.research.google.com/github/corinnakeum1/DS-4002/blob/main/HedonicPricingCorinnaKeum.ipynb\" target=\"_parent\"><img src=\"https://colab.research.google.com/assets/colab-badge.svg\" alt=\"Open In Colab\"/></a>"
      ]
    },
    {
      "cell_type": "code",
      "execution_count": 4,
      "metadata": {
        "colab": {
          "base_uri": "https://localhost:8080/"
        },
        "id": "aRqqSMDljz_5",
        "outputId": "05ffdf22-a84d-4c39-c3a6-18924c16877d"
      },
      "outputs": [
        {
          "output_type": "stream",
          "name": "stdout",
          "text": [
            "<class 'pandas.core.frame.DataFrame'>\n",
            "RangeIndex: 30478 entries, 0 to 30477\n",
            "Data columns (total 13 columns):\n",
            " #   Column                      Non-Null Count  Dtype  \n",
            "---  ------                      --------------  -----  \n",
            " 0   Host Id                     30478 non-null  int64  \n",
            " 1   Host Since                  30475 non-null  object \n",
            " 2   Name                        30478 non-null  object \n",
            " 3   Neighbourhood               30478 non-null  object \n",
            " 4   Property Type               30475 non-null  object \n",
            " 5   Review Scores Rating (bin)  22155 non-null  float64\n",
            " 6   Room Type                   30478 non-null  object \n",
            " 7   Zipcode                     30344 non-null  float64\n",
            " 8   Beds                        30393 non-null  float64\n",
            " 9   Number of Records           30478 non-null  int64  \n",
            " 10  Number Of Reviews           30478 non-null  int64  \n",
            " 11  Price                       30478 non-null  object \n",
            " 12  Review Scores Rating        22155 non-null  float64\n",
            "dtypes: float64(4), int64(3), object(6)\n",
            "memory usage: 3.0+ MB\n",
            "None\n"
          ]
        }
      ],
      "source": [
        "import pandas as pd\n",
        "\n",
        "# Load the CSV file\n",
        "df = pd.read_csv(\"airbnb_hw.csv\")\n",
        "\n",
        "# Display the first few rows\n",
        "df.head()\n",
        "print(df.info())\n"
      ]
    },
    {
      "cell_type": "code",
      "source": [
        "# Convert 'Host Since' to datetime and drop rows with missing values\n",
        "df['Host Since'] = pd.to_datetime(df['Host Since'], errors='coerce')\n",
        "df.dropna(subset=['Host Since'], inplace=True)\n",
        "\n",
        "# Fill missing 'Review Scores Rating' and 'Review Scores Rating (bin)' with median or placeholders\n",
        "df['Review Scores Rating'].fillna(df['Review Scores Rating'].median(), inplace=True)\n",
        "df['Review Scores Rating (bin)'].fillna('Unknown', inplace=True)\n",
        "\n",
        "# Convert 'Zipcode' to string and fill missing values with a placeholder\n",
        "df['Zipcode'] = df['Zipcode'].fillna(\"Unknown\").astype(str)\n",
        "\n",
        "# Convert 'Price' to numeric by removing any non-numeric characters, then cast to float\n",
        "df['Price'] = df['Price'].replace('[\\$,]', '', regex=True).astype(float)\n",
        "\n",
        "# Fill missing 'Beds' with median value\n",
        "df['Beds'].fillna(df['Beds'].median(), inplace=True)\n",
        "\n",
        "\n",
        "# Verify data types and missing values\n",
        "print(df.info())\n",
        "print(df.head())\n"
      ],
      "metadata": {
        "colab": {
          "base_uri": "https://localhost:8080/"
        },
        "id": "6Opb2mg-T8It",
        "outputId": "4745b46e-c450-4af8-bc1d-2ca6d97288ac"
      },
      "execution_count": 5,
      "outputs": [
        {
          "output_type": "stream",
          "name": "stdout",
          "text": [
            "<class 'pandas.core.frame.DataFrame'>\n",
            "Index: 30475 entries, 3 to 30477\n",
            "Data columns (total 13 columns):\n",
            " #   Column                      Non-Null Count  Dtype         \n",
            "---  ------                      --------------  -----         \n",
            " 0   Host Id                     30475 non-null  int64         \n",
            " 1   Host Since                  30475 non-null  datetime64[ns]\n",
            " 2   Name                        30475 non-null  object        \n",
            " 3   Neighbourhood               30475 non-null  object        \n",
            " 4   Property Type               30472 non-null  object        \n",
            " 5   Review Scores Rating (bin)  30475 non-null  object        \n",
            " 6   Room Type                   30475 non-null  object        \n",
            " 7   Zipcode                     30475 non-null  object        \n",
            " 8   Beds                        30475 non-null  float64       \n",
            " 9   Number of Records           30475 non-null  int64         \n",
            " 10  Number Of Reviews           30475 non-null  int64         \n",
            " 11  Price                       30475 non-null  float64       \n",
            " 12  Review Scores Rating        30475 non-null  float64       \n",
            "dtypes: datetime64[ns](1), float64(3), int64(3), object(6)\n",
            "memory usage: 3.3+ MB\n",
            "None\n",
            "   Host Id Host Since                                 Name Neighbourhood   \\\n",
            "3      500 2008-06-26   Gorgeous 1 BR with Private Balcony      Manhattan   \n",
            "4      500 2008-06-26             Trendy Times Square Loft      Manhattan   \n",
            "5     1039 2008-07-25   Big Greenpoint 1BD w/ Skyline View       Brooklyn   \n",
            "6     1783 2008-08-12                         Amazing Also      Manhattan   \n",
            "7     2078 2008-08-15  Colorful, quiet, & near the subway!       Brooklyn   \n",
            "\n",
            "  Property Type Review Scores Rating (bin)        Room Type  Zipcode  Beds  \\\n",
            "3     Apartment                    Unknown  Entire home/apt  10024.0   3.0   \n",
            "4     Apartment                       95.0     Private room  10036.0   3.0   \n",
            "5     Apartment                      100.0  Entire home/apt  11222.0   1.0   \n",
            "6     Apartment                      100.0  Entire home/apt  10004.0   1.0   \n",
            "7     Apartment                       90.0     Private room  11201.0   1.0   \n",
            "\n",
            "   Number of Records  Number Of Reviews  Price  Review Scores Rating  \n",
            "3                  1                  0  199.0                  94.0  \n",
            "4                  1                 39  549.0                  96.0  \n",
            "5                  1                  4  149.0                 100.0  \n",
            "6                  1                  9  250.0                 100.0  \n",
            "7                  1                 80   90.0                  94.0  \n"
          ]
        },
        {
          "output_type": "stream",
          "name": "stderr",
          "text": [
            "<ipython-input-5-ad15c91dc90e>:6: FutureWarning: A value is trying to be set on a copy of a DataFrame or Series through chained assignment using an inplace method.\n",
            "The behavior will change in pandas 3.0. This inplace method will never work because the intermediate object on which we are setting values always behaves as a copy.\n",
            "\n",
            "For example, when doing 'df[col].method(value, inplace=True)', try using 'df.method({col: value}, inplace=True)' or df[col] = df[col].method(value) instead, to perform the operation inplace on the original object.\n",
            "\n",
            "\n",
            "  df['Review Scores Rating'].fillna(df['Review Scores Rating'].median(), inplace=True)\n",
            "<ipython-input-5-ad15c91dc90e>:7: FutureWarning: A value is trying to be set on a copy of a DataFrame or Series through chained assignment using an inplace method.\n",
            "The behavior will change in pandas 3.0. This inplace method will never work because the intermediate object on which we are setting values always behaves as a copy.\n",
            "\n",
            "For example, when doing 'df[col].method(value, inplace=True)', try using 'df.method({col: value}, inplace=True)' or df[col] = df[col].method(value) instead, to perform the operation inplace on the original object.\n",
            "\n",
            "\n",
            "  df['Review Scores Rating (bin)'].fillna('Unknown', inplace=True)\n",
            "<ipython-input-5-ad15c91dc90e>:7: FutureWarning: Setting an item of incompatible dtype is deprecated and will raise an error in a future version of pandas. Value 'Unknown' has dtype incompatible with float64, please explicitly cast to a compatible dtype first.\n",
            "  df['Review Scores Rating (bin)'].fillna('Unknown', inplace=True)\n",
            "<ipython-input-5-ad15c91dc90e>:16: FutureWarning: A value is trying to be set on a copy of a DataFrame or Series through chained assignment using an inplace method.\n",
            "The behavior will change in pandas 3.0. This inplace method will never work because the intermediate object on which we are setting values always behaves as a copy.\n",
            "\n",
            "For example, when doing 'df[col].method(value, inplace=True)', try using 'df.method({col: value}, inplace=True)' or df[col] = df[col].method(value) instead, to perform the operation inplace on the original object.\n",
            "\n",
            "\n",
            "  df['Beds'].fillna(df['Beds'].median(), inplace=True)\n"
          ]
        }
      ]
    },
    {
      "cell_type": "code",
      "source": [],
      "metadata": {
        "id": "qa5ZoiOGUG-h"
      },
      "execution_count": null,
      "outputs": []
    }
  ]
}
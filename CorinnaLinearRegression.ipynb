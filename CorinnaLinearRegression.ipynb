{
  "nbformat": 4,
  "nbformat_minor": 0,
  "metadata": {
    "colab": {
      "provenance": [],
      "authorship_tag": "ABX9TyPqAduQpKcbW/J25BK2ArmC",
      "include_colab_link": true
    },
    "kernelspec": {
      "name": "python3",
      "display_name": "Python 3"
    },
    "language_info": {
      "name": "python"
    }
  },
  "cells": [
    {
      "cell_type": "markdown",
      "metadata": {
        "id": "view-in-github",
        "colab_type": "text"
      },
      "source": [
        "<a href=\"https://colab.research.google.com/github/corinnakeum1/DS-4002/blob/main/CorinnaLinearRegression.ipynb\" target=\"_parent\"><img src=\"https://colab.research.google.com/assets/colab-badge.svg\" alt=\"Open In Colab\"/></a>"
      ]
    },
    {
      "cell_type": "code",
      "execution_count": null,
      "metadata": {
        "id": "lqbQQa_YVgl9"
      },
      "outputs": [],
      "source": []
    },
    {
      "cell_type": "markdown",
      "source": [
        "Q0\n",
        "\n",
        "What makes a model \"linear\"? \"Linear\" in what?\n",
        "\n",
        "\n",
        "How do you interpret the coefficient for a dummy/one-hot-encoded variable? (This is a trick question, and the trick involves how you handle the intercept of the model.)\n",
        "\n",
        "\n",
        "Can linear regression be used for classification? Explain why, or why not.\n",
        "What are signs that your linear model is over-fitting?\n",
        "\n",
        "\n",
        "Clearly explain multi-colinearity using the two-stage least squares technique.\n",
        "What are two ways to incorporate nonlinear relationships between your target/response/dependent/outcome variable\n",
        " and your features/control/response/independent variables\n",
        "?\n",
        "\n",
        "\n",
        "What is the interpretation of the intercept? A slope coefficient for a variable? The coefficient for a dummy/one-hot-encoded variable?"
      ],
      "metadata": {
        "id": "CxM-8BooVlSJ"
      }
    }
  ]
}
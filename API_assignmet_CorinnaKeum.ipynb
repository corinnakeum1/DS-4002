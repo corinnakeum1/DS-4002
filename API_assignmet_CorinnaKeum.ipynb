{
  "nbformat": 4,
  "nbformat_minor": 0,
  "metadata": {
    "colab": {
      "provenance": [],
      "authorship_tag": "ABX9TyNckWq8M2rkC8J0oE9Le1Lg",
      "include_colab_link": true
    },
    "kernelspec": {
      "name": "python3",
      "display_name": "Python 3"
    },
    "language_info": {
      "name": "python"
    }
  },
  "cells": [
    {
      "cell_type": "markdown",
      "metadata": {
        "id": "view-in-github",
        "colab_type": "text"
      },
      "source": [
        "<a href=\"https://colab.research.google.com/github/corinnakeum1/DS-4002/blob/main/API_assignmet_CorinnaKeum.ipynb\" target=\"_parent\"><img src=\"https://colab.research.google.com/assets/colab-badge.svg\" alt=\"Open In Colab\"/></a>"
      ]
    },
    {
      "cell_type": "code",
      "execution_count": 61,
      "metadata": {
        "id": "gzFyvgK_Pfk8"
      },
      "outputs": [],
      "source": [
        "import numpy as np # Import the numpy package into your workspace\n",
        "import matplotlib.pyplot as plt # Import matplotlib into your workspace\n",
        "import pandas as pd  # Import the pandas package into your workspace\n"
      ]
    },
    {
      "cell_type": "code",
      "source": [
        "import urllib.request\n",
        "import json\n",
        "url = 'https://www.saferproducts.gov/RestWebServices/'\n",
        "query = 'Recall?format=json&ProductType=Sunglass'\n",
        "response = urllib.request.urlopen(url+query)\n",
        "response_bytes = response.read()\n",
        "data = json.loads(response_bytes)\n",
        "response.close()"
      ],
      "metadata": {
        "id": "TjTTJtfjSXnN"
      },
      "execution_count": 62,
      "outputs": []
    },
    {
      "cell_type": "markdown",
      "source": [
        "1. Practice writing queries using the saferproducts.gov API and your web browser.\n",
        "\n",
        "?format=json&ProductType=sunglass\n",
        "\n",
        "?format=json&Injury=Death\n"
      ],
      "metadata": {
        "id": "SFU7zJV4Py4E"
      }
    },
    {
      "cell_type": "markdown",
      "source": [
        "3. Convert this code chunk into a function you can reuse to flatten dictionaries, or explain clearly the problems you run into while attempting to do so. Make some tables or plots."
      ],
      "metadata": {
        "id": "AOaQgzgOVgWJ"
      }
    },
    {
      "cell_type": "code",
      "source": [
        "df = pd.DataFrame.from_dict(data) # converts to dataframe\n",
        "\n",
        "print(df.shape, '\\n') # List the dimensions of df\n",
        "print(df.dtypes, '\\n') # The types of the variables; `object` is a bad sign\n",
        "print(df.columns, '\\n') # Column names\n",
        "df.head()\n",
        "print(df.head())\n",
        "\n",
        "temp = df['RemedyOptions'] # opening remedyoptions in the data frame\n",
        "clean_values = [] # making an empty list\n",
        "for i in range(len(temp)): #loop through the temp column\n",
        "    if isinstance(temp[i], list) and len(temp[i]) > 0:  # Check that the variable is not empty in list\n",
        "        values = [] # make a new list\n",
        "        for j in range(len(temp[i])): # loop through the temp item\n",
        "            if isinstance(temp[i][j], dict) and 'Option' in temp[i][j]:  # Check if it's a dictionary and contains option\n",
        "                values.append(temp[i][j]['Option']) # adding to the list\n",
        "        clean_values.append(values)\n",
        "    else:\n",
        "        clean_values.append('')\n",
        "df['remedy'] = clean_values\n",
        "\n",
        "\n",
        "df.head() # table of data frame\n",
        "\n",
        "\n",
        "print(df['ManufacturerCountries'])\n",
        "\n",
        "data = {'ManufacturerCountries': [[{'Country': 'China'}], [{'Country': 'Thailand'}], [{'Country': 'Italy'}], [{'Country': 'China'}], [{'Country': 'China'}]]}\n",
        "df = pd.DataFrame(data)\n",
        "\n",
        "\n",
        "countries = [] # make a list to put the countries into\n",
        "for country_list in df['ManufacturerCountries']: # for the amount of countries in the DF\n",
        "  for country_dict in country_list:\n",
        "    countries.append(country_dict['Country'])\n",
        "# countries put into the new list\n",
        "\n",
        "\n",
        "# counting the amount of times the country is seen\n",
        "country_counts = pd.Series(countries).value_counts()\n",
        "\n",
        "# creating a bar graph\n",
        "plt.bar(country_counts.index, country_counts.values)\n",
        "plt.xlabel(\"Country\")\n",
        "plt.ylabel(\"Number of Products\")\n",
        "plt.title(\"Number of Products by Country\")\n",
        "plt.show()\n"
      ],
      "metadata": {
        "colab": {
          "base_uri": "https://localhost:8080/",
          "height": 1000
        },
        "id": "eG4RK_OgbTwX",
        "outputId": "bffde197-8c79-459f-e739-d9a16bf6306f"
      },
      "execution_count": 63,
      "outputs": [
        {
          "output_type": "stream",
          "name": "stdout",
          "text": [
            "(8, 22) \n",
            "\n",
            "RecallID                  int64\n",
            "RecallNumber             object\n",
            "RecallDate               object\n",
            "Description              object\n",
            "URL                      object\n",
            "Title                    object\n",
            "ConsumerContact          object\n",
            "LastPublishDate          object\n",
            "Products                 object\n",
            "Inconjunctions           object\n",
            "Images                   object\n",
            "Injuries                 object\n",
            "Manufacturers            object\n",
            "Retailers                object\n",
            "Importers                object\n",
            "Distributors             object\n",
            "SoldAtLabel              object\n",
            "ManufacturerCountries    object\n",
            "ProductUPCs              object\n",
            "Hazards                  object\n",
            "Remedies                 object\n",
            "RemedyOptions            object\n",
            "dtype: object \n",
            "\n",
            "Index(['RecallID', 'RecallNumber', 'RecallDate', 'Description', 'URL', 'Title',\n",
            "       'ConsumerContact', 'LastPublishDate', 'Products', 'Inconjunctions',\n",
            "       'Images', 'Injuries', 'Manufacturers', 'Retailers', 'Importers',\n",
            "       'Distributors', 'SoldAtLabel', 'ManufacturerCountries', 'ProductUPCs',\n",
            "       'Hazards', 'Remedies', 'RemedyOptions'],\n",
            "      dtype='object') \n",
            "\n",
            "   RecallID RecallNumber           RecallDate  \\\n",
            "0      1760        14268  2014-09-04T00:00:00   \n",
            "1      5049        09097  2009-01-15T00:00:00   \n",
            "2      4265        08239  2008-04-03T00:00:00   \n",
            "3      4096        08087  2007-12-07T00:00:00   \n",
            "4      4090        08080  2007-11-08T00:00:00   \n",
            "\n",
            "                                         Description  \\\n",
            "0  This recall includes 20 styles of Disney, Marv...   \n",
            "1  The two-tone sunglasses come in Spiderweb Blue...   \n",
            "2  The recalled children's sunglasses have Main S...   \n",
            "3  The recall involves 15 styles of children's su...   \n",
            "4  The recall involves yellow children's sunglass...   \n",
            "\n",
            "                                                 URL  \\\n",
            "0  https://www.cpsc.gov/Recalls/2014/FGX-Internat...   \n",
            "1  https://www.cpsc.gov/Recalls/2009/Strangulatio...   \n",
            "2  https://www.cpsc.gov/Recalls/2008/Childrens-Ma...   \n",
            "3  https://www.cpsc.gov/Recalls/2008/Childrens-Su...   \n",
            "4  https://www.cpsc.gov/Recalls/2008/Childrens-Su...   \n",
            "\n",
            "                                               Title  \\\n",
            "0  FGX International Recalls Children's Sunglasse...   \n",
            "1  Children's Sunglasses Recalled by Axiom Due to...   \n",
            "2  Children's 'Main Street Drag' Sunglasses Recal...   \n",
            "3  Children's Sunglasses Recalled by FGX Internat...   \n",
            "4  Children's Sunglasses Recalled by Dollar Gener...   \n",
            "\n",
            "                                     ConsumerContact      LastPublishDate  \\\n",
            "0  Contact FGX International toll-free at (877) 2...  2015-07-24T00:00:00   \n",
            "1  For more information, contact Axiom at (800) 2...  2014-05-23T00:00:00   \n",
            "2  For additional information, contact StyleMark ...  2014-05-23T00:00:00   \n",
            "3  Contact FGX International toll-free at (877) 2...  2014-05-23T00:00:00   \n",
            "4  For additional information, contact Dollar Gen...  2014-05-23T00:00:00   \n",
            "\n",
            "                                            Products Inconjunctions  ...  \\\n",
            "0  [{'Name': 'Children's sunglasses', 'Descriptio...             []  ...   \n",
            "1  [{'Name': 'Children's Sunglasses', 'Descriptio...             []  ...   \n",
            "2  [{'Name': 'Children's Sunglasses', 'Descriptio...             []  ...   \n",
            "3  [{'Name': 'Children's Sunglasses', 'Descriptio...             []  ...   \n",
            "4  [{'Name': 'Children's Fashion Sunglasses', 'De...             []  ...   \n",
            "\n",
            "  Manufacturers                                          Retailers  \\\n",
            "0            []  [{'Name': 'Bon Ton, CVS, K-mart, Rite-Aid, Wal...   \n",
            "1            []  [{'Name': 'Party stores, discount dollar store...   \n",
            "2            []  [{'Name': 'Payless, Walgreen's, Academy Sports...   \n",
            "3            []  [{'Name': 'Various stores nationwide from Janu...   \n",
            "4            []  [{'Name': 'Dollar General stores nationwide fr...   \n",
            "\n",
            "                                           Importers Distributors SoldAtLabel  \\\n",
            "0  [{'Name': 'FGX International Inc., of Smithfie...           []        None   \n",
            "1  [{'Name': 'Axiom International Inc., of Billin...           []        None   \n",
            "2  [{'Name': 'StyleMark Inc., of Ormond Beach, Fl...           []        None   \n",
            "3  [{'Name': 'FGX International Inc., of Smithfie...           []        None   \n",
            "4  [{'Name': 'Dolgencorp Inc., of Goodlettsville,...           []        None   \n",
            "\n",
            "    ManufacturerCountries                ProductUPCs  \\\n",
            "0  [{'Country': 'China'}]                         []   \n",
            "1  [{'Country': 'China'}]                         []   \n",
            "2  [{'Country': 'China'}]                         []   \n",
            "3  [{'Country': 'China'}]                         []   \n",
            "4  [{'Country': 'China'}]  [{'UPC': '400007860896'}]   \n",
            "\n",
            "                                             Hazards  \\\n",
            "0  [{'Name': 'Surface paint on the sunglasses con...   \n",
            "1  [{'Name': 'Surface paint on the recalled sungl...   \n",
            "2  [{'Name': 'Surface paint in the orange letteri...   \n",
            "3  [{'Name': 'Surface paint on the sunglasses can...   \n",
            "4  [{'Name': 'The yellow surface paint on the sun...   \n",
            "\n",
            "                                            Remedies  \\\n",
            "0  [{'Name': 'Consumers should immediately take t...   \n",
            "1  [{'Name': 'Consumers should immediately take t...   \n",
            "2  [{'Name': 'Consumers should immediately take t...   \n",
            "3  [{'Name': 'Consumers should immediately take t...   \n",
            "4  [{'Name': 'Consumers should take the recalled ...   \n",
            "\n",
            "                                   RemedyOptions  \n",
            "0  [{'Option': 'Replace'}, {'Option': 'Refund'}]  \n",
            "1                                             []  \n",
            "2                                             []  \n",
            "3                                             []  \n",
            "4                                             []  \n",
            "\n",
            "[5 rows x 22 columns]\n",
            "0     [{'Country': 'China'}]\n",
            "1     [{'Country': 'China'}]\n",
            "2     [{'Country': 'China'}]\n",
            "3     [{'Country': 'China'}]\n",
            "4     [{'Country': 'China'}]\n",
            "5     [{'Country': 'China'}]\n",
            "6    [{'Country': 'Taiwan'}]\n",
            "7     [{'Country': 'China'}]\n",
            "Name: ManufacturerCountries, dtype: object\n"
          ]
        },
        {
          "output_type": "display_data",
          "data": {
            "text/plain": [
              "<Figure size 640x480 with 1 Axes>"
            ],
            "image/png": "[encoded data removed]"
          },
          "metadata": {}
        }
      ]
    },
    {
      "cell_type": "markdown",
      "source": [
        "5. Pick an API, download some data, wrangle them, and produce some EDA results, as we did in the previous steps with the saferproducts.gov API; or, if you can't get it to work, document why. If you have the time and it's low cost, push the results to a streamlit page. If you have had enough, I recommend https://www.eia.gov/opendata/browser/electricity, since there is a friendly query builder that you can use to learn."
      ],
      "metadata": {
        "id": "o-_g9BNSyBgk"
      }
    },
    {
      "cell_type": "code",
      "source": [
        "import urllib.request\n",
        "import json\n",
        "import pandas as pd\n",
        "import requests\n",
        "import matplotlib.pyplot as plt\n",
        "\n",
        "url = 'https://www.saferproducts.gov/RestWebServices/'\n",
        "query = 'Recall?format=json&Injury=Death'\n",
        "response = urllib.request.urlopen(url+query)\n",
        "response_bytes = response.read()\n",
        "data = json.loads(response_bytes)\n",
        "response.close()\n",
        "\n",
        "temp = df['RemedyOptions'] # opening remedyoptions in the data frame\n",
        "clean_values = [] # making an empty list\n",
        "for i in range(len(temp)): #loop through the temp column\n",
        "    if isinstance(temp[i], list) and len(temp[i]) > 0:  # Check that the variable is not empty in list\n",
        "        values = [] # make a new list\n",
        "        for j in range(len(temp[i])): # loop through the temp item\n",
        "            if isinstance(temp[i][j], dict) and 'Option' in temp[i][j]:  # Check if it's a dictionary and contains option\n",
        "                values.append(temp[i][j]['Option']) # adding to the list\n",
        "        clean_values.append(values)\n",
        "    else:\n",
        "        clean_values.append('')\n",
        "df['remedy'] = clean_values\n",
        "\n",
        "#defining the data frame\n",
        "df = pd.DataFrame.from_dict(data)\n",
        "print(df.shape)\n",
        "print(df.head())\n",
        "\n",
        "print(df['ManufacturerCountries'])\n",
        "\n",
        "data = {'ManufacturerCountries': [[{'Country': 'China'}], [{'Country': 'Thailand'}], [{'Country': 'Italy'}], [{'Country': 'China'}], [{'Country': 'China'}]]}\n",
        "df = pd.DataFrame(data)\n",
        "\n",
        "\n",
        "countries = [] # make a list to put the countries into\n",
        "for country_list in df['ManufacturerCountries']: # for the amount of countries in the DF\n",
        "  for country_dict in country_list:\n",
        "    countries.append(country_dict['Country'])\n",
        "# countries put into the new list\n",
        "\n",
        "\n",
        "# counting the amount of times the country is seen\n",
        "country_counts = pd.Series(countries).value_counts()\n",
        "\n",
        "# creating a bar graph\n",
        "plt.bar(country_counts.index, country_counts.values)\n",
        "plt.xlabel(\"Country\")\n",
        "plt.ylabel(\"Number of Products\")\n",
        "plt.title(\"Number of Products by Country\")\n",
        "plt.show()\n"
      ],
      "metadata": {
        "colab": {
          "base_uri": "https://localhost:8080/",
          "height": 561
        },
        "id": "Y6ZrSjvEyCtz",
        "outputId": "18db7862-3ce9-465d-e3ed-b4909736bee0"
      },
      "execution_count": 66,
      "outputs": [
        {
          "output_type": "error",
          "ename": "KeyError",
          "evalue": "'RemedyOptions'",
          "traceback": [
            "\u001b[0;31m---------------------------------------------------------------------------\u001b[0m",
            "\u001b[0;31mKeyError\u001b[0m                                  Traceback (most recent call last)",
            "\u001b[0;32m/usr/local/lib/python3.10/dist-packages/pandas/core/indexes/base.py\u001b[0m in \u001b[0;36mget_loc\u001b[0;34m(self, key)\u001b[0m\n\u001b[1;32m   3790\u001b[0m         \u001b[0;32mtry\u001b[0m\u001b[0;34m:\u001b[0m\u001b[0;34m\u001b[0m\u001b[0;34m\u001b[0m\u001b[0m\n\u001b[0;32m-> 3791\u001b[0;31m             \u001b[0;32mreturn\u001b[0m \u001b[0mself\u001b[0m\u001b[0;34m.\u001b[0m\u001b[0m_engine\u001b[0m\u001b[0;34m.\u001b[0m\u001b[0mget_loc\u001b[0m\u001b[0;34m(\u001b[0m\u001b[0mcasted_key\u001b[0m\u001b[0;34m)\u001b[0m\u001b[0;34m\u001b[0m\u001b[0;34m\u001b[0m\u001b[0m\n\u001b[0m\u001b[1;32m   3792\u001b[0m         \u001b[0;32mexcept\u001b[0m \u001b[0mKeyError\u001b[0m \u001b[0;32mas\u001b[0m \u001b[0merr\u001b[0m\u001b[0;34m:\u001b[0m\u001b[0;34m\u001b[0m\u001b[0;34m\u001b[0m\u001b[0m\n",
            "\u001b[0;32mindex.pyx\u001b[0m in \u001b[0;36mpandas._libs.index.IndexEngine.get_loc\u001b[0;34m()\u001b[0m\n",
            "\u001b[0;32mindex.pyx\u001b[0m in \u001b[0;36mpandas._libs.index.IndexEngine.get_loc\u001b[0;34m()\u001b[0m\n",
            "\u001b[0;32mpandas/_libs/hashtable_class_helper.pxi\u001b[0m in \u001b[0;36mpandas._libs.hashtable.PyObjectHashTable.get_item\u001b[0;34m()\u001b[0m\n",
            "\u001b[0;32mpandas/_libs/hashtable_class_helper.pxi\u001b[0m in \u001b[0;36mpandas._libs.hashtable.PyObjectHashTable.get_item\u001b[0;34m()\u001b[0m\n",
            "\u001b[0;31mKeyError\u001b[0m: 'RemedyOptions'",
            "\nThe above exception was the direct cause of the following exception:\n",
            "\u001b[0;31mKeyError\u001b[0m                                  Traceback (most recent call last)",
            "\u001b[0;32m<ipython-input-66-3e4c264a6349>\u001b[0m in \u001b[0;36m<cell line: 14>\u001b[0;34m()\u001b[0m\n\u001b[1;32m     12\u001b[0m \u001b[0mresponse\u001b[0m\u001b[0;34m.\u001b[0m\u001b[0mclose\u001b[0m\u001b[0;34m(\u001b[0m\u001b[0;34m)\u001b[0m\u001b[0;34m\u001b[0m\u001b[0;34m\u001b[0m\u001b[0m\n\u001b[1;32m     13\u001b[0m \u001b[0;34m\u001b[0m\u001b[0m\n\u001b[0;32m---> 14\u001b[0;31m \u001b[0mtemp\u001b[0m \u001b[0;34m=\u001b[0m \u001b[0mdf\u001b[0m\u001b[0;34m[\u001b[0m\u001b[0;34m'RemedyOptions'\u001b[0m\u001b[0;34m]\u001b[0m \u001b[0;31m# opening remedyoptions in the data frame\u001b[0m\u001b[0;34m\u001b[0m\u001b[0;34m\u001b[0m\u001b[0m\n\u001b[0m\u001b[1;32m     15\u001b[0m \u001b[0mclean_values\u001b[0m \u001b[0;34m=\u001b[0m \u001b[0;34m[\u001b[0m\u001b[0;34m]\u001b[0m \u001b[0;31m# making an empty list\u001b[0m\u001b[0;34m\u001b[0m\u001b[0;34m\u001b[0m\u001b[0m\n\u001b[1;32m     16\u001b[0m \u001b[0;32mfor\u001b[0m \u001b[0mi\u001b[0m \u001b[0;32min\u001b[0m \u001b[0mrange\u001b[0m\u001b[0;34m(\u001b[0m\u001b[0mlen\u001b[0m\u001b[0;34m(\u001b[0m\u001b[0mtemp\u001b[0m\u001b[0;34m)\u001b[0m\u001b[0;34m)\u001b[0m\u001b[0;34m:\u001b[0m \u001b[0;31m#loop through the temp column\u001b[0m\u001b[0;34m\u001b[0m\u001b[0;34m\u001b[0m\u001b[0m\n",
            "\u001b[0;32m/usr/local/lib/python3.10/dist-packages/pandas/core/frame.py\u001b[0m in \u001b[0;36m__getitem__\u001b[0;34m(self, key)\u001b[0m\n\u001b[1;32m   3891\u001b[0m             \u001b[0;32mif\u001b[0m \u001b[0mself\u001b[0m\u001b[0;34m.\u001b[0m\u001b[0mcolumns\u001b[0m\u001b[0;34m.\u001b[0m\u001b[0mnlevels\u001b[0m \u001b[0;34m>\u001b[0m \u001b[0;36m1\u001b[0m\u001b[0;34m:\u001b[0m\u001b[0;34m\u001b[0m\u001b[0;34m\u001b[0m\u001b[0m\n\u001b[1;32m   3892\u001b[0m                 \u001b[0;32mreturn\u001b[0m \u001b[0mself\u001b[0m\u001b[0;34m.\u001b[0m\u001b[0m_getitem_multilevel\u001b[0m\u001b[0;34m(\u001b[0m\u001b[0mkey\u001b[0m\u001b[0;34m)\u001b[0m\u001b[0;34m\u001b[0m\u001b[0;34m\u001b[0m\u001b[0m\n\u001b[0;32m-> 3893\u001b[0;31m             \u001b[0mindexer\u001b[0m \u001b[0;34m=\u001b[0m \u001b[0mself\u001b[0m\u001b[0;34m.\u001b[0m\u001b[0mcolumns\u001b[0m\u001b[0;34m.\u001b[0m\u001b[0mget_loc\u001b[0m\u001b[0;34m(\u001b[0m\u001b[0mkey\u001b[0m\u001b[0;34m)\u001b[0m\u001b[0;34m\u001b[0m\u001b[0;34m\u001b[0m\u001b[0m\n\u001b[0m\u001b[1;32m   3894\u001b[0m             \u001b[0;32mif\u001b[0m \u001b[0mis_integer\u001b[0m\u001b[0;34m(\u001b[0m\u001b[0mindexer\u001b[0m\u001b[0;34m)\u001b[0m\u001b[0;34m:\u001b[0m\u001b[0;34m\u001b[0m\u001b[0;34m\u001b[0m\u001b[0m\n\u001b[1;32m   3895\u001b[0m                 \u001b[0mindexer\u001b[0m \u001b[0;34m=\u001b[0m \u001b[0;34m[\u001b[0m\u001b[0mindexer\u001b[0m\u001b[0;34m]\u001b[0m\u001b[0;34m\u001b[0m\u001b[0;34m\u001b[0m\u001b[0m\n",
            "\u001b[0;32m/usr/local/lib/python3.10/dist-packages/pandas/core/indexes/base.py\u001b[0m in \u001b[0;36mget_loc\u001b[0;34m(self, key)\u001b[0m\n\u001b[1;32m   3796\u001b[0m             ):\n\u001b[1;32m   3797\u001b[0m                 \u001b[0;32mraise\u001b[0m \u001b[0mInvalidIndexError\u001b[0m\u001b[0;34m(\u001b[0m\u001b[0mkey\u001b[0m\u001b[0;34m)\u001b[0m\u001b[0;34m\u001b[0m\u001b[0;34m\u001b[0m\u001b[0m\n\u001b[0;32m-> 3798\u001b[0;31m             \u001b[0;32mraise\u001b[0m \u001b[0mKeyError\u001b[0m\u001b[0;34m(\u001b[0m\u001b[0mkey\u001b[0m\u001b[0;34m)\u001b[0m \u001b[0;32mfrom\u001b[0m \u001b[0merr\u001b[0m\u001b[0;34m\u001b[0m\u001b[0;34m\u001b[0m\u001b[0m\n\u001b[0m\u001b[1;32m   3799\u001b[0m         \u001b[0;32mexcept\u001b[0m \u001b[0mTypeError\u001b[0m\u001b[0;34m:\u001b[0m\u001b[0;34m\u001b[0m\u001b[0;34m\u001b[0m\u001b[0m\n\u001b[1;32m   3800\u001b[0m             \u001b[0;31m# If we have a listlike key, _check_indexing_error will raise\u001b[0m\u001b[0;34m\u001b[0m\u001b[0;34m\u001b[0m\u001b[0m\n",
            "\u001b[0;31mKeyError\u001b[0m: 'RemedyOptions'"
          ]
        }
      ]
    },
    {
      "cell_type": "markdown",
      "source": [],
      "metadata": {
        "id": "lm_vcuaMUxCL"
      }
    }
  ]
}
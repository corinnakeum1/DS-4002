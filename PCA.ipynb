{
  "nbformat": 4,
  "nbformat_minor": 0,
  "metadata": {
    "colab": {
      "provenance": [],
      "authorship_tag": "ABX9TyOgIs4x4QFRFblmcDl26YjU",
      "include_colab_link": true
    },
    "kernelspec": {
      "name": "python3",
      "display_name": "Python 3"
    },
    "language_info": {
      "name": "python"
    }
  },
  "cells": [
    {
      "cell_type": "markdown",
      "metadata": {
        "id": "view-in-github",
        "colab_type": "text"
      },
      "source": [
        "<a href=\"https://colab.research.google.com/github/corinnakeum1/DS-4002/blob/main/PCA.ipynb\" target=\"_parent\"><img src=\"https://colab.research.google.com/assets/colab-badge.svg\" alt=\"Open In Colab\"/></a>"
      ]
    },
    {
      "cell_type": "code",
      "source": [
        "import numpy as np\n",
        "import pandas as pd\n",
        "import pickle\n",
        "from collections import Counter\n",
        "from multiprocessing.pool import Pool\n",
        "from sklearn.decomposition import PCA\n",
        "from sklearn.linear_model import LinearRegression\n",
        "from sklearn.model_selection import train_test_split\n",
        "from sklearn.metrics import r2_score\n",
        "import seaborn as sns\n",
        "import matplotlib.pyplot as plt\n",
        "\n",
        "\n",
        "#df = pd.read_csv('Phishing_Email.csv')\n",
        "df = pd.read_parquet('https://data434.s3.us-east-2.amazonaws.com/Phishing_Email.parquet')\n",
        "# Tokenize the email text\n",
        "df['Tokens'] = df['Email Text'].str.split()\n",
        "\n",
        "# Display some results\n",
        "print(df[['Email Text', 'Tokens']].head())\n"
      ],
      "metadata": {
        "colab": {
          "base_uri": "https://localhost:8080/"
        },
        "id": "BJODcPmbwI2w",
        "outputId": "b4a16016-1746-4698-c43d-3926ef5ca131"
      },
      "execution_count": 2,
      "outputs": [
        {
          "output_type": "stream",
          "name": "stdout",
          "text": [
            "                                          Email Text  \\\n",
            "0  re : 6 . 1100 , disc : uniformitarianism , re ...   \n",
            "1  the other side of * galicismos * * galicismo *...   \n",
            "2  re : equistar deal tickets are you still avail...   \n",
            "3  \\nHello I am your hot lil horny toy.\\n    I am...   \n",
            "4  software at incredibly low prices ( 86 % lower...   \n",
            "\n",
            "                                              Tokens  \n",
            "0  [re, :, 6, ., 1100, ,, disc, :, uniformitarian...  \n",
            "1  [the, other, side, of, *, galicismos, *, *, ga...  \n",
            "2  [re, :, equistar, deal, tickets, are, you, sti...  \n",
            "3  [Hello, I, am, your, hot, lil, horny, toy., I,...  \n",
            "4  [software, at, incredibly, low, prices, (, 86,...  \n"
          ]
        }
      ]
    },
    {
      "cell_type": "markdown",
      "source": [
        "Open the Phishing_Email.parquet data. It is available at https://data434.s3.us-east-2.amazonaws.com/Phishing_Email.parquet, and you can download it directly using Pandas by providing that URL: df = pd.read_parquet('https://data434.s3.us-east-2.amazonaws.com/Phishing_Email.parquet').\n",
        "\n",
        "We just want to look at the first step of cleaning text data, so you can get an idea of how it works. The Email Text variable contains the actual text of the email and the Email Type takes the value Phishing Email or Safe Email. We want to predict which emails are phishing emails from their contents.\n",
        "\n",
        "Use the str.split() method to break the Phishing Email values into tokens: The individual words or symbols that create text data like emails. Natural Language Processing is primarily about analyzing the frequency and co-occurrence of tokens. Print the results of your split and examine it.\n",
        "\n",
        "In words, how would you clean the tokens and use them to predict whether the email is a phishing scam or not? A short summary of the kinds of tasks you would do and how you would run a predictive algorithm is fine."
      ],
      "metadata": {
        "id": "oMYQppd9u-Lv"
      }
    },
    {
      "cell_type": "markdown",
      "source": [
        "I would clean the token and use them to predict whether the email is phishing scam by removing \"Stop words\". This would remove punctuation and common words that are not important to finding the scams because they do not raise red flags. I would then encode the token and then run an algorithm used the presence of the tokens to predict whether or not the emails are scames."
      ],
      "metadata": {
        "id": "eHc8BmLXG7Uk"
      }
    },
    {
      "cell_type": "code",
      "source": [
        "import nltk\n",
        "nltk.download('stopwords')\n"
      ],
      "metadata": {
        "id": "06aTDbYuISEp",
        "outputId": "bda760a6-da4a-454a-d172-ca788316f28d",
        "colab": {
          "base_uri": "https://localhost:8080/"
        }
      },
      "execution_count": 3,
      "outputs": [
        {
          "output_type": "stream",
          "name": "stderr",
          "text": [
            "[nltk_data] Downloading package stopwords to /root/nltk_data...\n",
            "[nltk_data]   Package stopwords is already up-to-date!\n"
          ]
        },
        {
          "output_type": "execute_result",
          "data": {
            "text/plain": [
              "True"
            ]
          },
          "metadata": {},
          "execution_count": 3
        }
      ]
    },
    {
      "cell_type": "code",
      "source": [
        "import pickle\n",
        "import re\n",
        "from nltk.corpus import stopwords\n",
        "import nltk\n",
        "import pandas as pd\n",
        "from collections import Counter\n",
        "import matplotlib.pyplot as plt\n",
        "\n",
        "# Download stopwords\n",
        "nltk.download('stopwords')\n",
        "\n",
        "# Tokenize and clean the email text\n",
        "all_emails = ' '.join(df['Email Text'])\n",
        "all_emails_cleaned = re.sub(r'[^\\w\\s]', '', all_emails.lower())  # Remove punctuation and lowercase\n",
        "tokens = all_emails_cleaned.split()\n",
        "\n",
        "# Remove stop words\n",
        "stop_words = set(stopwords.words('english'))\n",
        "filtered_tokens = [word for word in tokens if word not in stop_words]\n",
        "\n",
        "# Save tokens to a pickle file\n",
        "with open('all_tokens.pickle', 'wb') as file:\n",
        "    pickle.dump(filtered_tokens, file)\n",
        "\n",
        "# Load tokens from the pickle file\n",
        "with open('all_tokens.pickle', 'rb') as file:\n",
        "    all_tokens = pickle.load(file)\n",
        "\n",
        "# Count token frequencies\n",
        "token_count = Counter(all_tokens)\n",
        "token_freq = token_count.most_common()\n",
        "\n",
        "# Create a DataFrame for visualization\n",
        "gdf = pd.DataFrame(token_freq, columns=['token', 'count'])\n",
        "\n",
        "# Plot histogram\n",
        "plt.figure(figsize=(10, 6))\n",
        "gdf['count'].hist(grid=False, bins=100, color='skyblue')\n",
        "plt.title('Token Frequency Distribution')\n",
        "plt.xlabel('Token Count')\n",
        "plt.ylabel('Frequency')\n",
        "plt.show()\n",
        "\n",
        "\n"
      ],
      "metadata": {
        "id": "Bz_q5gJdG5Je",
        "outputId": "331df049-cc95-4c5c-d28e-af42d6cccd94",
        "colab": {
          "base_uri": "https://localhost:8080/",
          "height": 507
        }
      },
      "execution_count": 4,
      "outputs": [
        {
          "output_type": "stream",
          "name": "stderr",
          "text": [
            "[nltk_data] Downloading package stopwords to /root/nltk_data...\n",
            "[nltk_data]   Package stopwords is already up-to-date!\n"
          ]
        },
        {
          "output_type": "display_data",
          "data": {
            "text/plain": [
              "<Figure size 1000x600 with 1 Axes>"
            ],
            "image/png": "[encoded data removed]"
          },
          "metadata": {}
        }
      ]
    },
    {
      "cell_type": "code",
      "source": [
        "gdf['count'].describe()"
      ],
      "metadata": {
        "id": "s43JQL_1JcsL",
        "outputId": "51ce6c29-9fd8-4fd0-cbf8-cb4a431620a9",
        "colab": {
          "base_uri": "https://localhost:8080/",
          "height": 335
        }
      },
      "execution_count": 5,
      "outputs": [
        {
          "output_type": "execute_result",
          "data": {
            "text/plain": [
              "count    191248.000000\n",
              "mean         26.641617\n",
              "std         593.506088\n",
              "min           1.000000\n",
              "25%           1.000000\n",
              "50%           2.000000\n",
              "75%           6.000000\n",
              "max      236924.000000\n",
              "Name: count, dtype: float64"
            ],
            "text/html": [
              "<div>\n",
              "<style scoped>\n",
              "    .dataframe tbody tr th:only-of-type {\n",
              "        vertical-align: middle;\n",
              "    }\n",
              "\n",
              "    .dataframe tbody tr th {\n",
              "        vertical-align: top;\n",
              "    }\n",
              "\n",
              "    .dataframe thead th {\n",
              "        text-align: right;\n",
              "    }\n",
              "</style>\n",
              "<table border=\"1\" class=\"dataframe\">\n",
              "  <thead>\n",
              "    <tr style=\"text-align: right;\">\n",
              "      <th></th>\n",
              "      <th>count</th>\n",
              "    </tr>\n",
              "  </thead>\n",
              "  <tbody>\n",
              "    <tr>\n",
              "      <th>count</th>\n",
              "      <td>191248.000000</td>\n",
              "    </tr>\n",
              "    <tr>\n",
              "      <th>mean</th>\n",
              "      <td>26.641617</td>\n",
              "    </tr>\n",
              "    <tr>\n",
              "      <th>std</th>\n",
              "      <td>593.506088</td>\n",
              "    </tr>\n",
              "    <tr>\n",
              "      <th>min</th>\n",
              "      <td>1.000000</td>\n",
              "    </tr>\n",
              "    <tr>\n",
              "      <th>25%</th>\n",
              "      <td>1.000000</td>\n",
              "    </tr>\n",
              "    <tr>\n",
              "      <th>50%</th>\n",
              "      <td>2.000000</td>\n",
              "    </tr>\n",
              "    <tr>\n",
              "      <th>75%</th>\n",
              "      <td>6.000000</td>\n",
              "    </tr>\n",
              "    <tr>\n",
              "      <th>max</th>\n",
              "      <td>236924.000000</td>\n",
              "    </tr>\n",
              "  </tbody>\n",
              "</table>\n",
              "</div><br><label><b>dtype:</b> float64</label>"
            ]
          },
          "metadata": {},
          "execution_count": 5
        }
      ]
    },
    {
      "cell_type": "markdown",
      "source": [
        "This shows that most of the tokens appear once and a handful appear more than ten times. Even the 75th percentile of tokens only appear 6 times and 50th only 2 times. But the max token appears 236,000+ times. This shows that it can't possibly be predictive of a scam."
      ],
      "metadata": {
        "id": "Arb0QrDrKmBw"
      }
    },
    {
      "cell_type": "code",
      "source": [
        "\n",
        "import pandas as pd\n",
        "import re\n",
        "import nltk\n",
        "from nltk.corpus import stopwords\n",
        "\n",
        "# Download required NLTK data\n",
        "nltk.download('stopwords')\n",
        "\n",
        "# Load the parquet file\n",
        "df = pd.read_parquet('https://data434.s3.us-east-2.amazonaws.com/Phishing_Email.parquet')\n",
        "\n",
        "# Define a function to clean the email text\n",
        "def clean_email(email_text):\n",
        "    # Remove punctuation and convert to lowercase\n",
        "    email_text = re.sub(r'[^\\w\\s]', '', email_text).lower()\n",
        "    # Tokenize the email text\n",
        "    tokens = email_text.split()\n",
        "    # Remove stop words\n",
        "    stop_words = set(stopwords.words('english'))\n",
        "    filtered_tokens = [word for word in tokens if word not in stop_words]\n",
        "    # Join tokens back into a string\n",
        "    return ' '.join(filtered_tokens)\n",
        "\n",
        "# Apply the cleaning function to the 'Email Text' column\n",
        "df['Cleaned Email Text'] = df['Email Text'].apply(clean_email)\n",
        "\n",
        "# Drop unnecessary columns, if any\n",
        "# df = df.drop(columns=['Tokens'], errors='ignore') # Commented out to preserve the original code\n",
        "\n",
        "# Save to CSV\n",
        "df.to_csv('cleaned_phishing_email.csv', index=False)\n",
        "\n",
        "# Download the CSV file from Colab\n",
        "from google.colab import files\n",
        "files.download('cleaned_phishing_email.csv')"
      ],
      "metadata": {
        "id": "fg2bKhFabh-0",
        "outputId": "1a9590cc-3607-42d2-e9ff-00057f563d73",
        "colab": {
          "base_uri": "https://localhost:8080/",
          "height": 53
        }
      },
      "execution_count": 6,
      "outputs": [
        {
          "output_type": "stream",
          "name": "stderr",
          "text": [
            "[nltk_data] Downloading package stopwords to /root/nltk_data...\n",
            "[nltk_data]   Package stopwords is already up-to-date!\n"
          ]
        },
        {
          "output_type": "display_data",
          "data": {
            "text/plain": [
              "<IPython.core.display.Javascript object>"
            ],
            "application/javascript": [
              "\n",
              "    async function download(id, filename, size) {\n",
              "      if (!google.colab.kernel.accessAllowed) {\n",
              "        return;\n",
              "      }\n",
              "      const div = document.createElement('div');\n",
              "      const label = document.createElement('label');\n",
              "      label.textContent = `Downloading \"${filename}\": `;\n",
              "      div.appendChild(label);\n",
              "      const progress = document.createElement('progress');\n",
              "      progress.max = size;\n",
              "      div.appendChild(progress);\n",
              "      document.body.appendChild(div);\n",
              "\n",
              "      const buffers = [];\n",
              "      let downloaded = 0;\n",
              "\n",
              "      const channel = await google.colab.kernel.comms.open(id);\n",
              "      // Send a message to notify the kernel that we're ready.\n",
              "      channel.send({})\n",
              "\n",
              "      for await (const message of channel.messages) {\n",
              "        // Send a message to notify the kernel that we're ready.\n",
              "        channel.send({})\n",
              "        if (message.buffers) {\n",
              "          for (const buffer of message.buffers) {\n",
              "            buffers.push(buffer);\n",
              "            downloaded += buffer.byteLength;\n",
              "            progress.value = downloaded;\n",
              "          }\n",
              "        }\n",
              "      }\n",
              "      const blob = new Blob(buffers, {type: 'application/binary'});\n",
              "      const a = document.createElement('a');\n",
              "      a.href = window.URL.createObjectURL(blob);\n",
              "      a.download = filename;\n",
              "      div.appendChild(a);\n",
              "      a.click();\n",
              "      div.remove();\n",
              "    }\n",
              "  "
            ]
          },
          "metadata": {}
        },
        {
          "output_type": "display_data",
          "data": {
            "text/plain": [
              "<IPython.core.display.Javascript object>"
            ],
            "application/javascript": [
              "download(\"download_898a4e1b-415c-439e-bf76-2c8dc5c998d1\", \"cleaned_phishing_email.csv\", 87773782)"
            ]
          },
          "metadata": {}
        }
      ]
    },
    {
      "cell_type": "code",
      "source": [
        "import pandas as pd\n",
        "\n",
        "# Load the data\n",
        "df = pd.read_csv('/content/cleaned_phishing_email.csv')\n",
        "\n",
        "# Check the first few rows to inspect the data\n",
        "print(df.head())\n",
        "\n",
        "# Check the data types to understand the structure\n",
        "print(df.dtypes)\n"
      ],
      "metadata": {
        "id": "QDPxmBnSdNWD",
        "outputId": "960b10e9-ddeb-4da4-9264-9f2dae745bd4",
        "colab": {
          "base_uri": "https://localhost:8080/"
        }
      },
      "execution_count": 7,
      "outputs": [
        {
          "output_type": "stream",
          "name": "stdout",
          "text": [
            "   index  Unnamed: 0                                         Email Text  \\\n",
            "0      0           0  re : 6 . 1100 , disc : uniformitarianism , re ...   \n",
            "1      1           1  the other side of * galicismos * * galicismo *...   \n",
            "2      2           2  re : equistar deal tickets are you still avail...   \n",
            "3      3           3  \\nHello I am your hot lil horny toy.\\n    I am...   \n",
            "4      4           4  software at incredibly low prices ( 86 % lower...   \n",
            "\n",
            "       Email Type                                 Cleaned Email Text  \n",
            "0      Safe Email  6 1100 disc uniformitarianism 1086 sex lang di...  \n",
            "1      Safe Email  side galicismos galicismo spanish term names i...  \n",
            "2      Safe Email  equistar deal tickets still available assist r...  \n",
            "3  Phishing Email  hello hot lil horny toy one dream open minded ...  \n",
            "4  Phishing Email  software incredibly low prices 86 lower draper...  \n",
            "index                  int64\n",
            "Unnamed: 0             int64\n",
            "Email Text            object\n",
            "Email Type            object\n",
            "Cleaned Email Text    object\n",
            "dtype: object\n"
          ]
        }
      ]
    },
    {
      "cell_type": "code",
      "source": [
        "X = pd.get_dummies(df.drop('Email Type', axis=1))  # One-hot encode categorical features\n"
      ],
      "metadata": {
        "id": "gQOtzR2LdVxj"
      },
      "execution_count": 8,
      "outputs": []
    },
    {
      "cell_type": "code",
      "source": [
        "from sklearn.preprocessing import LabelEncoder\n",
        "\n",
        "# Convert 'Email Type' to numeric labels\n",
        "label_encoder = LabelEncoder()\n",
        "y = label_encoder.fit_transform(df['Email Type'])\n"
      ],
      "metadata": {
        "id": "eTIVQCnhdbCt"
      },
      "execution_count": 9,
      "outputs": []
    },
    {
      "cell_type": "code",
      "source": [
        "import pandas as pd\n",
        "from sklearn.model_selection import train_test_split\n",
        "from sklearn.linear_model import LogisticRegression\n",
        "from sklearn.metrics import r2_score\n",
        "from sklearn.preprocessing import LabelEncoder\n",
        "\n",
        "# Load the dataset\n",
        "df = pd.read_csv('cleaned_phishing_email.csv')\n",
        "\n",
        "# Define target (y) and encode it\n",
        "le = LabelEncoder()\n",
        "y = le.fit_transform(df['Email Type'])  # Encode string labels into numeric\n",
        "\n",
        "# Define features (X) and ensure they are numeric\n",
        "X = df.drop(columns=['Email Type'])\n",
        "\n",
        "# Handle text columns\n",
        "if any(X.dtypes == 'object'):  # Check if any column is of type object (likely contains text)\n",
        "    from sklearn.feature_extraction.text import TfidfVectorizer\n",
        "\n",
        "    # Assuming text is in the first column; update column index/name as needed\n",
        "    text_column = X.iloc[:, 0].astype(str)  # Convert to string\n",
        "    vectorizer = TfidfVectorizer(max_features=1000)  # Adjust feature limit as needed\n",
        "\n",
        "    # Fit-transform the text data\n",
        "    X_vectorized = vectorizer.fit_transform(text_column)\n",
        "\n",
        "    # Replace the original text column with vectorized features\n",
        "    X = pd.DataFrame(X_vectorized.toarray(), columns=vectorizer.get_feature_names_out())\n",
        "\n",
        "# Train-test split\n",
        "X_train, X_test, y_train, y_test = train_test_split(X, y, test_size=0.2, random_state=42)\n",
        "\n",
        "# Logistic regression model\n",
        "lr = LogisticRegression(solver='liblinear', max_iter=1000)\n",
        "lr.fit(X_train, y_train)\n",
        "\n",
        "# Predictions and R^2 scores\n",
        "y_train_pred = lr.predict(X_train)\n",
        "y_test_pred = lr.predict(X_test)\n",
        "\n",
        "r2_train = r2_score(y_train, y_train_pred)\n",
        "r2_test = r2_score(y_test, y_test_pred)\n",
        "\n",
        "print(f\"Train R^2: {r2_train:.4f}\")\n",
        "print(f\"Test R^2: {r2_test:.4f}\")\n",
        "\n",
        "# Feature importance (absolute coefficients)\n",
        "# If vectorized, X.columns will not match original features; use vectorizer's feature names\n",
        "feature_names = (\n",
        "    vectorizer.get_feature_names_out() if 'vectorizer' in locals() else X.columns\n",
        ")\n",
        "\n",
        "coefficients = pd.DataFrame({\n",
        "    'Feature': feature_names,\n",
        "    'Coefficient': lr.coef_[0]\n",
        "})\n",
        "coefficients['AbsCoefficient'] = coefficients['Coefficient'].abs()\n",
        "\n",
        "# Sort by absolute coefficient value\n",
        "top_influential_features = coefficients.sort_values(by='AbsCoefficient', ascending=False).head(10)\n",
        "print(\"\\nTop 10 Influential Features:\\n\", top_influential_features)\n"
      ],
      "metadata": {
        "id": "Kdq3D30Lduy_",
        "outputId": "8c8ed241-a2c0-42e9-fdcb-3a91da281342",
        "colab": {
          "base_uri": "https://localhost:8080/"
        }
      },
      "execution_count": 13,
      "outputs": [
        {
          "output_type": "stream",
          "name": "stdout",
          "text": [
            "Train R^2: -0.5491\n",
            "Test R^2: -0.6872\n",
            "\n",
            "Top 10 Influential Features:\n",
            "     Feature  Coefficient  AbsCoefficient\n",
            "0        10    -0.491357        0.491357\n",
            "513    4311    -0.491357        0.491357\n",
            "535    4331    -0.491357        0.491357\n",
            "534    4330    -0.491357        0.491357\n",
            "532    4329    -0.491357        0.491357\n",
            "531    4328    -0.491357        0.491357\n",
            "529    4326    -0.491357        0.491357\n",
            "528    4325    -0.491357        0.491357\n",
            "527    4324    -0.491357        0.491357\n",
            "526    4323    -0.491357        0.491357\n"
          ]
        }
      ]
    },
    {
      "cell_type": "markdown",
      "source": [
        "Perform an 80/20 train-test split of the data.\n",
        "Run a regression of\n",
        " on the one-hot-encoded emails. What is the\n",
        " on the test set? On the training set?\n",
        "What words have the largest coefficients in absolute value and most strongly influence predictions?"
      ],
      "metadata": {
        "id": "fIp3tR1re1gy"
      }
    },
    {
      "cell_type": "markdown",
      "source": [],
      "metadata": {
        "id": "oXbhiQsMe8tL"
      }
    },
    {
      "cell_type": "code",
      "source": [
        "import pandas as pd\n",
        "import numpy as np\n",
        "\n",
        "# Ensure vectorizer or feature names are defined\n",
        "if 'vectorizer' in locals():\n",
        "    feature_names = vectorizer.get_feature_names_out()  # Extract from vectorizer\n",
        "else:\n",
        "    feature_names = X.columns  # Use DataFrame column names\n",
        "\n",
        "# Extract coefficients from the trained logistic regression model\n",
        "coefficients = lr.coef_[0]  # For binary classification, extract the first row of coefficients\n",
        "\n",
        "# Create a DataFrame combining feature names and coefficients\n",
        "coef_df = pd.DataFrame({\n",
        "    'Feature': feature_names,\n",
        "    'Coefficient': coefficients,\n",
        "    'AbsCoefficient': np.abs(coefficients)  # Calculate absolute values\n",
        "})\n",
        "\n",
        "# Sort the features by the absolute values of coefficients in descending order\n",
        "top_influential_words = coef_df.sort_values(by='AbsCoefficient', ascending=False).head(10)\n",
        "\n",
        "# Display the top influential features\n",
        "print(\"\\nTop 10 Words Influencing Predictions:\")\n",
        "print(top_influential_words)\n",
        "\n",
        "\n"
      ],
      "metadata": {
        "id": "lOUBS8xYe0nK",
        "outputId": "3df73f8e-60c4-493f-ef9c-b8f773c42489",
        "colab": {
          "base_uri": "https://localhost:8080/"
        }
      },
      "execution_count": 21,
      "outputs": [
        {
          "output_type": "stream",
          "name": "stdout",
          "text": [
            "\n",
            "Top 10 Words Influencing Predictions:\n",
            "    Feature  Coefficient  AbsCoefficient\n",
            "0        10    -0.491357        0.491357\n",
            "513    4311    -0.491357        0.491357\n",
            "535    4331    -0.491357        0.491357\n",
            "534    4330    -0.491357        0.491357\n",
            "532    4329    -0.491357        0.491357\n",
            "531    4328    -0.491357        0.491357\n",
            "529    4326    -0.491357        0.491357\n",
            "528    4325    -0.491357        0.491357\n",
            "527    4324    -0.491357        0.491357\n",
            "526    4323    -0.491357        0.491357\n"
          ]
        }
      ]
    },
    {
      "cell_type": "markdown",
      "source": [
        "Take the matrix of one-hot-encoded tokens (the data, less the outcome variable, Email Type) and perform a principal components analysis decomposition with two components. Plot the first two principal components in a scatter plot, and hue the points by whether they are a phishing scam or not. Do you notice any patterns?"
      ],
      "metadata": {
        "id": "gEON7yZL9m9E"
      }
    },
    {
      "cell_type": "code",
      "source": [
        "import pandas as pd\n",
        "import numpy as np\n",
        "from sklearn.decomposition import PCA\n",
        "from sklearn.model_selection import train_test_split\n",
        "from sklearn.feature_extraction.text import TfidfVectorizer\n",
        "import seaborn as sns\n",
        "import matplotlib.pyplot as plt\n",
        "\n",
        "# Load dataset\n",
        "df = pd.read_csv('cleaned_phishing_email.csv')  # Replace with your dataset file path\n",
        "\n",
        "# Define target (y) and features (X)\n",
        "y = df['Email Type']  # Outcome variable\n",
        "X = df.drop(columns=['Email Type'])  # Features\n",
        "\n",
        "# Vectorize the text data if necessary\n",
        "if isinstance(X.iloc[0, 0], str):  # Check if the first column contains text\n",
        "    vectorizer = TfidfVectorizer(max_features=1000)\n",
        "    X_vectorized = vectorizer.fit_transform(X.iloc[:, 0])  # Assuming a single text column\n",
        "    X = pd.DataFrame(X_vectorized.toarray(), columns=vectorizer.get_feature_names_out())\n",
        "\n",
        "# Ensure X is numeric and has no NaN values\n",
        "X = X.apply(pd.to_numeric, errors='coerce').fillna(0)\n",
        "\n",
        "# Train-test split\n",
        "X_train, X_test, y_train, y_test = train_test_split(X, y, test_size=0.2, random_state=42)\n",
        "\n",
        "# PCA for dimensionality reduction\n",
        "reduction = PCA(n_components=2).fit(X_train)  # Fit PCA on the training data\n",
        "Z_train = reduction.transform(X_train)       # Transform training data\n",
        "Z_test = reduction.transform(X_test)         # Transform test data\n",
        "\n",
        "# Plot PCA-transformed test data\n",
        "plt.figure(figsize=(10, 6))\n",
        "sns.scatterplot(x=Z_test[:, 0], y=Z_test[:, 1], hue=y_test, palette='coolwarm', alpha=0.7)\n",
        "plt.title('PCA of Test Data (2 Components)')\n",
        "plt.xlabel('Principal Component 1')\n",
        "plt.ylabel('Principal Component 2')\n",
        "plt.legend(title='Email Type')\n",
        "plt.show()\n",
        "\n"
      ],
      "metadata": {
        "id": "sLeFAUqg9n2A",
        "outputId": "4cf965c0-18a0-4f6c-d7ce-7e018c07bb5b",
        "colab": {
          "base_uri": "https://localhost:8080/",
          "height": 584
        }
      },
      "execution_count": 26,
      "outputs": [
        {
          "output_type": "display_data",
          "data": {
            "text/plain": [
              "<Figure size 1000x600 with 1 Axes>"
            ],
            "image/png": "[encoded data removed]"
          },
          "metadata": {}
        }
      ]
    },
    {
      "cell_type": "markdown",
      "source": [
        "the orange dots are scam points and this shows that the data has high variance along one principal component while the other component contributes very little varience."
      ],
      "metadata": {
        "id": "lpp58OzJ_F2L"
      }
    },
    {
      "cell_type": "code",
      "source": [
        "print(X_train_scaled.shape)\n"
      ],
      "metadata": {
        "id": "QvH-32q9ADnD",
        "outputId": "91c6a07e-d5f2-4fc9-8c5c-9471547df05e",
        "colab": {
          "base_uri": "https://localhost:8080/"
        }
      },
      "execution_count": 28,
      "outputs": [
        {
          "output_type": "stream",
          "name": "stdout",
          "text": [
            "(14907, 4)\n"
          ]
        }
      ]
    },
    {
      "cell_type": "code",
      "source": [
        "pca = PCA(n_components=4)  # Maximum allowed components\n"
      ],
      "metadata": {
        "id": "uOeI-QBJAKiW"
      },
      "execution_count": 29,
      "outputs": []
    },
    {
      "cell_type": "code",
      "source": [
        "from sklearn.preprocessing import LabelEncoder\n",
        "\n",
        "# Encode target labels\n",
        "encoder = LabelEncoder()\n",
        "y_train_encoded = encoder.fit_transform(y_train)  # Encode training labels\n",
        "y_test_encoded = encoder.transform(y_test)  # Encode test labels\n",
        "\n",
        "# Perform PCA with the maximum number of components\n",
        "pca = PCA(n_components=4)\n",
        "X_train_pca = pca.fit_transform(X_train_scaled)\n",
        "X_test_pca = pca.transform(X_test_scaled)\n",
        "\n",
        "# Train linear regression on PCA-transformed data\n",
        "lr_pca = LinearRegression()\n",
        "lr_pca.fit(X_train_pca, y_train_encoded)\n",
        "\n",
        "# Evaluate R^2\n",
        "y_train_pred_pca = lr_pca.predict(X_train_pca)\n",
        "y_test_pred_pca = lr_pca.predict(X_test_pca)\n",
        "\n",
        "r2_train_pca = r2_score(y_train_encoded, y_train_pred_pca)\n",
        "r2_test_pca = r2_score(y_test_encoded, y_test_pred_pca)\n",
        "\n",
        "print(f\"R^2 on Training Set (PCA): {r2_train_pca:.4f}\")\n",
        "print(f\"R^2 on Test Set (PCA): {r2_test_pca:.4f}\")\n",
        "\n",
        "# Train linear regression on original data for comparison\n",
        "lr = LinearRegression()\n",
        "lr.fit(X_train_scaled, y_train_encoded)\n",
        "\n",
        "# Evaluate R^2 without PCA\n",
        "y_train_pred = lr.predict(X_train_scaled)\n",
        "y_test_pred = lr.predict(X_test_scaled)\n",
        "\n",
        "r2_train = r2_score(y_train_encoded, y_train_pred)\n",
        "r2_test = r2_score(y_test_encoded, y_test_pred)\n",
        "\n",
        "print(f\"R^2 on Training Set (Original): {r2_train:.4f}\")\n",
        "print(f\"R^2 on Test Set (Original): {r2_test:.4f}\")\n"
      ],
      "metadata": {
        "id": "R6SO6cxN_Axq",
        "outputId": "f383e282-df46-4899-89fb-fca395aba7ac",
        "colab": {
          "base_uri": "https://localhost:8080/"
        }
      },
      "execution_count": 31,
      "outputs": [
        {
          "output_type": "stream",
          "name": "stdout",
          "text": [
            "R^2 on Training Set (PCA): 0.0001\n",
            "R^2 on Test Set (PCA): -0.0014\n",
            "R^2 on Training Set (Original): 0.0001\n",
            "R^2 on Test Set (Original): -0.0014\n"
          ]
        }
      ]
    },
    {
      "cell_type": "markdown",
      "source": [
        "because the R^2 values are close to 0, this means that the linear regression model is failing to capture the patterns in the data."
      ],
      "metadata": {
        "id": "CPqEY2V-Ae9k"
      }
    },
    {
      "cell_type": "markdown",
      "source": [
        "Explain briefly in your own words what the advantage is in using the principal components to run this high-dimensional regression, rather than the original data."
      ],
      "metadata": {
        "id": "iM_Q22dVAyRJ"
      }
    },
    {
      "cell_type": "markdown",
      "source": [
        "The advantages of using pricipal components is that PCA reduces the number of features while retaining most of the data's variance, which helps simplifying the model and reducing the complexity in computing. PCA also reduces dimensionality, and reducing overfitting. PCA prioritizing components with the most variance, which helps filter out irrelevant info."
      ],
      "metadata": {
        "id": "n15RMG6PAy6t"
      }
    }
  ]
}